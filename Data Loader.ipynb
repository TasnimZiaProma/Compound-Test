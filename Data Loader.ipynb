{
 "cells": [
  {
   "cell_type": "code",
   "execution_count": 5,
   "metadata": {},
   "outputs": [],
   "source": [
    "import torch\n",
    "from torch.utils.data import DataLoader, Dataset\n",
    "import pandas as pd"
   ]
  },
  {
   "cell_type": "code",
   "execution_count": 6,
   "metadata": {},
   "outputs": [],
   "source": [
    "import os\n",
    "import skimage.io as sk"
   ]
  },
  {
   "cell_type": "code",
   "execution_count": 29,
   "metadata": {},
   "outputs": [],
   "source": [
    "from torchvision.transforms import transforms"
   ]
  },
  {
   "cell_type": "code",
   "execution_count": 31,
   "metadata": {},
   "outputs": [],
   "source": [
    "from torch.utils.data import DataLoader"
   ]
  },
  {
   "cell_type": "code",
   "execution_count": 46,
   "metadata": {},
   "outputs": [],
   "source": [
    "from skimage.transform import resize"
   ]
  },
  {
   "cell_type": "code",
   "execution_count": 11,
   "metadata": {},
   "outputs": [],
   "source": [
    "Train_Data = pd.read_csv(\"./CMATERdbTrain.csv\", usecols=[\"labels\",\"directory\"])"
   ]
  },
  {
   "cell_type": "code",
   "execution_count": 12,
   "metadata": {},
   "outputs": [
    {
     "data": {
      "text/html": [
       "<div>\n",
       "<style scoped>\n",
       "    .dataframe tbody tr th:only-of-type {\n",
       "        vertical-align: middle;\n",
       "    }\n",
       "\n",
       "    .dataframe tbody tr th {\n",
       "        vertical-align: top;\n",
       "    }\n",
       "\n",
       "    .dataframe thead th {\n",
       "        text-align: right;\n",
       "    }\n",
       "</style>\n",
       "<table border=\"1\" class=\"dataframe\">\n",
       "  <thead>\n",
       "    <tr style=\"text-align: right;\">\n",
       "      <th></th>\n",
       "      <th>labels</th>\n",
       "      <th>directory</th>\n",
       "    </tr>\n",
       "  </thead>\n",
       "  <tbody>\n",
       "    <tr>\n",
       "      <th>0</th>\n",
       "      <td>1</td>\n",
       "      <td>dataset\\CMATERdbTrain\\1\\bcc000000.bmp</td>\n",
       "    </tr>\n",
       "    <tr>\n",
       "      <th>1</th>\n",
       "      <td>1</td>\n",
       "      <td>dataset\\CMATERdbTrain\\1\\bcc000032.bmp</td>\n",
       "    </tr>\n",
       "    <tr>\n",
       "      <th>2</th>\n",
       "      <td>1</td>\n",
       "      <td>dataset\\CMATERdbTrain\\1\\bcc000033.bmp</td>\n",
       "    </tr>\n",
       "    <tr>\n",
       "      <th>3</th>\n",
       "      <td>1</td>\n",
       "      <td>dataset\\CMATERdbTrain\\1\\bcc000034.bmp</td>\n",
       "    </tr>\n",
       "    <tr>\n",
       "      <th>4</th>\n",
       "      <td>1</td>\n",
       "      <td>dataset\\CMATERdbTrain\\1\\bcc000035.bmp</td>\n",
       "    </tr>\n",
       "    <tr>\n",
       "      <th>...</th>\n",
       "      <td>...</td>\n",
       "      <td>...</td>\n",
       "    </tr>\n",
       "    <tr>\n",
       "      <th>1572</th>\n",
       "      <td>156</td>\n",
       "      <td>dataset\\CMATERdbTrain\\156\\bcc001573.bmp</td>\n",
       "    </tr>\n",
       "    <tr>\n",
       "      <th>1573</th>\n",
       "      <td>156</td>\n",
       "      <td>dataset\\CMATERdbTrain\\156\\bcc001574.bmp</td>\n",
       "    </tr>\n",
       "    <tr>\n",
       "      <th>1574</th>\n",
       "      <td>156</td>\n",
       "      <td>dataset\\CMATERdbTrain\\156\\bcc001572.bmp</td>\n",
       "    </tr>\n",
       "    <tr>\n",
       "      <th>1575</th>\n",
       "      <td>158</td>\n",
       "      <td>dataset\\CMATERdbTrain\\158\\bcc001575.bmp</td>\n",
       "    </tr>\n",
       "    <tr>\n",
       "      <th>1576</th>\n",
       "      <td>159</td>\n",
       "      <td>dataset\\CMATERdbTrain\\159\\bcc001576.bmp</td>\n",
       "    </tr>\n",
       "  </tbody>\n",
       "</table>\n",
       "<p>1577 rows × 2 columns</p>\n",
       "</div>"
      ],
      "text/plain": [
       "      labels                                directory\n",
       "0          1    dataset\\CMATERdbTrain\\1\\bcc000000.bmp\n",
       "1          1    dataset\\CMATERdbTrain\\1\\bcc000032.bmp\n",
       "2          1    dataset\\CMATERdbTrain\\1\\bcc000033.bmp\n",
       "3          1    dataset\\CMATERdbTrain\\1\\bcc000034.bmp\n",
       "4          1    dataset\\CMATERdbTrain\\1\\bcc000035.bmp\n",
       "...      ...                                      ...\n",
       "1572     156  dataset\\CMATERdbTrain\\156\\bcc001573.bmp\n",
       "1573     156  dataset\\CMATERdbTrain\\156\\bcc001574.bmp\n",
       "1574     156  dataset\\CMATERdbTrain\\156\\bcc001572.bmp\n",
       "1575     158  dataset\\CMATERdbTrain\\158\\bcc001575.bmp\n",
       "1576     159  dataset\\CMATERdbTrain\\159\\bcc001576.bmp\n",
       "\n",
       "[1577 rows x 2 columns]"
      ]
     },
     "execution_count": 12,
     "metadata": {},
     "output_type": "execute_result"
    }
   ],
   "source": [
    "Train_Data"
   ]
  },
  {
   "cell_type": "code",
   "execution_count": 13,
   "metadata": {},
   "outputs": [],
   "source": [
    "Test_Data = pd.read_csv(\"./CMATERdbTest.csv\", usecols=[\"labels\",\"directory\"])"
   ]
  },
  {
   "cell_type": "code",
   "execution_count": 14,
   "metadata": {},
   "outputs": [
    {
     "data": {
      "text/html": [
       "<div>\n",
       "<style scoped>\n",
       "    .dataframe tbody tr th:only-of-type {\n",
       "        vertical-align: middle;\n",
       "    }\n",
       "\n",
       "    .dataframe tbody tr th {\n",
       "        vertical-align: top;\n",
       "    }\n",
       "\n",
       "    .dataframe thead th {\n",
       "        text-align: right;\n",
       "    }\n",
       "</style>\n",
       "<table border=\"1\" class=\"dataframe\">\n",
       "  <thead>\n",
       "    <tr style=\"text-align: right;\">\n",
       "      <th></th>\n",
       "      <th>labels</th>\n",
       "      <th>directory</th>\n",
       "    </tr>\n",
       "  </thead>\n",
       "  <tbody>\n",
       "    <tr>\n",
       "      <th>0</th>\n",
       "      <td>1</td>\n",
       "      <td>dataset\\CMATERdbTest\\1\\bcc000000.bmp</td>\n",
       "    </tr>\n",
       "    <tr>\n",
       "      <th>1</th>\n",
       "      <td>1</td>\n",
       "      <td>dataset\\CMATERdbTest\\1\\bcc000014.bmp</td>\n",
       "    </tr>\n",
       "    <tr>\n",
       "      <th>2</th>\n",
       "      <td>1</td>\n",
       "      <td>dataset\\CMATERdbTest\\1\\bcc000012.bmp</td>\n",
       "    </tr>\n",
       "    <tr>\n",
       "      <th>3</th>\n",
       "      <td>1</td>\n",
       "      <td>dataset\\CMATERdbTest\\1\\bcc000011.bmp</td>\n",
       "    </tr>\n",
       "    <tr>\n",
       "      <th>4</th>\n",
       "      <td>1</td>\n",
       "      <td>dataset\\CMATERdbTest\\1\\bcc000010.bmp</td>\n",
       "    </tr>\n",
       "    <tr>\n",
       "      <th>...</th>\n",
       "      <td>...</td>\n",
       "      <td>...</td>\n",
       "    </tr>\n",
       "    <tr>\n",
       "      <th>467</th>\n",
       "      <td>155</td>\n",
       "      <td>dataset\\CMATERdbTest\\155\\bcc000467.bmp</td>\n",
       "    </tr>\n",
       "    <tr>\n",
       "      <th>468</th>\n",
       "      <td>156</td>\n",
       "      <td>dataset\\CMATERdbTest\\156\\bcc000468.bmp</td>\n",
       "    </tr>\n",
       "    <tr>\n",
       "      <th>469</th>\n",
       "      <td>158</td>\n",
       "      <td>dataset\\CMATERdbTest\\158\\bcc000469.bmp</td>\n",
       "    </tr>\n",
       "    <tr>\n",
       "      <th>470</th>\n",
       "      <td>159</td>\n",
       "      <td>dataset\\CMATERdbTest\\159\\bcc000470.bmp</td>\n",
       "    </tr>\n",
       "    <tr>\n",
       "      <th>471</th>\n",
       "      <td>166</td>\n",
       "      <td>dataset\\CMATERdbTest\\166\\bcc000471.bmp</td>\n",
       "    </tr>\n",
       "  </tbody>\n",
       "</table>\n",
       "<p>472 rows × 2 columns</p>\n",
       "</div>"
      ],
      "text/plain": [
       "     labels                               directory\n",
       "0         1    dataset\\CMATERdbTest\\1\\bcc000000.bmp\n",
       "1         1    dataset\\CMATERdbTest\\1\\bcc000014.bmp\n",
       "2         1    dataset\\CMATERdbTest\\1\\bcc000012.bmp\n",
       "3         1    dataset\\CMATERdbTest\\1\\bcc000011.bmp\n",
       "4         1    dataset\\CMATERdbTest\\1\\bcc000010.bmp\n",
       "..      ...                                     ...\n",
       "467     155  dataset\\CMATERdbTest\\155\\bcc000467.bmp\n",
       "468     156  dataset\\CMATERdbTest\\156\\bcc000468.bmp\n",
       "469     158  dataset\\CMATERdbTest\\158\\bcc000469.bmp\n",
       "470     159  dataset\\CMATERdbTest\\159\\bcc000470.bmp\n",
       "471     166  dataset\\CMATERdbTest\\166\\bcc000471.bmp\n",
       "\n",
       "[472 rows x 2 columns]"
      ]
     },
     "execution_count": 14,
     "metadata": {},
     "output_type": "execute_result"
    }
   ],
   "source": [
    "Test_Data"
   ]
  },
  {
   "cell_type": "code",
   "execution_count": 25,
   "metadata": {},
   "outputs": [
    {
     "name": "stdout",
     "output_type": "stream",
     "text": [
      "472\n"
     ]
    }
   ],
   "source": [
    "nuTest = Test_Data.to_numpy()\n",
    "print(len(nuTest))"
   ]
  },
  {
   "cell_type": "code",
   "execution_count": 27,
   "metadata": {},
   "outputs": [
    {
     "data": {
      "text/plain": [
       "'dataset\\\\CMATERdbTest\\\\1\\\\bcc000000.bmp'"
      ]
     },
     "execution_count": 27,
     "metadata": {},
     "output_type": "execute_result"
    }
   ],
   "source": [
    "Test_Data.to_numpy()[0][1]"
   ]
  },
  {
   "cell_type": "code",
   "execution_count": null,
   "metadata": {},
   "outputs": [],
   "source": [
    "sk.imread()"
   ]
  },
  {
   "cell_type": "code",
   "execution_count": 62,
   "metadata": {},
   "outputs": [],
   "source": [
    "class CompundCharacterDataset(Dataset):\n",
    "    def __init__(self, dir_path,  transforms=None):\n",
    "        self.dataset =  pd.read_csv(dir_path, usecols=[\"labels\",\"directory\"])\n",
    "        self.ndataset = pd.read_csv(dir_path, usecols=[\"labels\",\"directory\"]).to_numpy()  \n",
    "        self.transforms = transforms\n",
    "        \n",
    "    def __getitem__(self, index):\n",
    "        label = torch.tensor(self.ndataset[index][0])\n",
    "        image_dir = self.ndataset[index][1]\n",
    "        image = sk.imread(os.path.join(os.getcwd(),image_dir))\n",
    "        image = resize(image, (100, 100, 3))\n",
    "        if self.transforms:\n",
    "            image = self.transforms(image)\n",
    "        return label, image\n",
    "    \n",
    "        \n",
    "    def __len__(self):\n",
    "        return len(self.ndataset)\n",
    "    "
   ]
  },
  {
   "cell_type": "code",
   "execution_count": 63,
   "metadata": {},
   "outputs": [],
   "source": [
    "test_dataset = CompundCharacterDataset(dir_path=\"./CMATERdbTest.csv\",transforms=transforms.ToTensor())"
   ]
  },
  {
   "cell_type": "code",
   "execution_count": 64,
   "metadata": {},
   "outputs": [],
   "source": [
    "test_loader = DataLoader(dataset=test_dataset, batch_size=256, shuffle= False )"
   ]
  },
  {
   "cell_type": "code",
   "execution_count": 65,
   "metadata": {},
   "outputs": [],
   "source": [
    "for id,items in enumerate(test_loader):\n",
    "    val = items"
   ]
  },
  {
   "cell_type": "code",
   "execution_count": 68,
   "metadata": {},
   "outputs": [],
   "source": [
    "x,y = val"
   ]
  },
  {
   "cell_type": "code",
   "execution_count": 69,
   "metadata": {},
   "outputs": [
    {
     "data": {
      "text/plain": [
       "tensor([ 27,  27,  27,  28,  29,  29,  29,  29,  29,  29,  29,  29,  29,  29,\n",
       "         29,  29,  29,  30,  30,  30,  30,  30,  31,  31,  31,  31,  31,  31,\n",
       "         31,  32,  33,  33,  33,  33,  34,  34,  34,  35,  35,  35,  35,  35,\n",
       "         35,  36,  36,  36,  36,  36,  37,  38,  38,  38,  39,  40,  40,  41,\n",
       "         41,  41,  41,  41,  42,  42,  42,  42,  42,  42,  42,  42,  43,  43,\n",
       "         43,  43,  43,  44,  44,  45,  45,  46,  46,  46,  46,  47,  47,  47,\n",
       "         47,  47,  48,  48,  48,  48,  48,  49,  49,  51,  52,  52,  52,  53,\n",
       "         53,  53,  53,  54,  54,  54,  55,  55,  55,  55,  55,  55,  55,  55,\n",
       "         55,  55,  55,  55,  55,  56,  57,  58,  58,  59,  59,  59,  60,  60,\n",
       "         61,  62,  63,  63,  63,  64,  64,  65,  66,  67,  67,  67,  68,  69,\n",
       "         69,  69,  70,  70,  71,  71,  72,  72,  73,  73,  74,  74,  74,  74,\n",
       "         77,  77,  78,  80,  81,  82,  83,  84,  84,  85,  86,  86,  87,  89,\n",
       "         90,  90,  92,  92,  94,  95,  95,  95,  96,  96,  96,  98,  99,  99,\n",
       "        100, 100, 101, 103, 105, 109, 112, 112, 112, 113, 113, 115, 116, 116,\n",
       "        119, 123, 125, 125, 126, 127, 127, 134, 135, 139, 142, 144, 147, 149,\n",
       "        154, 155, 156, 158, 159, 166])"
      ]
     },
     "execution_count": 69,
     "metadata": {},
     "output_type": "execute_result"
    }
   ],
   "source": [
    "x"
   ]
  },
  {
   "cell_type": "code",
   "execution_count": null,
   "metadata": {},
   "outputs": [],
   "source": []
  }
 ],
 "metadata": {
  "kernelspec": {
   "display_name": "Python 3",
   "language": "python",
   "name": "python3"
  },
  "language_info": {
   "codemirror_mode": {
    "name": "ipython",
    "version": 3
   },
   "file_extension": ".py",
   "mimetype": "text/x-python",
   "name": "python",
   "nbconvert_exporter": "python",
   "pygments_lexer": "ipython3",
   "version": "3.8.5"
  }
 },
 "nbformat": 4,
 "nbformat_minor": 4
}
