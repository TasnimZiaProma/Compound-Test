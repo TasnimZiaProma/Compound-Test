{
 "cells": [
  {
   "cell_type": "code",
   "execution_count": 2,
   "metadata": {},
   "outputs": [
    {
     "data": {
      "application/javascript": [
       "\n",
       "            setTimeout(function() {\n",
       "                var nbb_cell_id = 2;\n",
       "                var nbb_unformatted_code = \"%load_ext nb_black\";\n",
       "                var nbb_formatted_code = \"%load_ext nb_black\";\n",
       "                var nbb_cells = Jupyter.notebook.get_cells();\n",
       "                for (var i = 0; i < nbb_cells.length; ++i) {\n",
       "                    if (nbb_cells[i].input_prompt_number == nbb_cell_id) {\n",
       "                        if (nbb_cells[i].get_text() == nbb_unformatted_code) {\n",
       "                             nbb_cells[i].set_text(nbb_formatted_code);\n",
       "                        }\n",
       "                        break;\n",
       "                    }\n",
       "                }\n",
       "            }, 500);\n",
       "            "
      ],
      "text/plain": [
       "<IPython.core.display.Javascript object>"
      ]
     },
     "metadata": {},
     "output_type": "display_data"
    }
   ],
   "source": [
    "%load_ext nb_black"
   ]
  },
  {
   "cell_type": "code",
   "execution_count": 14,
   "metadata": {},
   "outputs": [
    {
     "data": {
      "application/javascript": [
       "\n",
       "            setTimeout(function() {\n",
       "                var nbb_cell_id = 14;\n",
       "                var nbb_unformatted_code = \"import torch\\nimport torchvision as tv\\nimport os\\nimport skimage.io as sk\\nimport pandas as pd\";\n",
       "                var nbb_formatted_code = \"import torch\\nimport torchvision as tv\\nimport os\\nimport skimage.io as sk\\nimport pandas as pd\";\n",
       "                var nbb_cells = Jupyter.notebook.get_cells();\n",
       "                for (var i = 0; i < nbb_cells.length; ++i) {\n",
       "                    if (nbb_cells[i].input_prompt_number == nbb_cell_id) {\n",
       "                        if (nbb_cells[i].get_text() == nbb_unformatted_code) {\n",
       "                             nbb_cells[i].set_text(nbb_formatted_code);\n",
       "                        }\n",
       "                        break;\n",
       "                    }\n",
       "                }\n",
       "            }, 500);\n",
       "            "
      ],
      "text/plain": [
       "<IPython.core.display.Javascript object>"
      ]
     },
     "metadata": {},
     "output_type": "display_data"
    }
   ],
   "source": [
    "import torch\n",
    "import torchvision as tv\n",
    "import os\n",
    "import skimage.io as sk\n",
    "import pandas as pd"
   ]
  },
  {
   "cell_type": "code",
   "execution_count": 15,
   "metadata": {},
   "outputs": [
    {
     "data": {
      "application/javascript": [
       "\n",
       "            setTimeout(function() {\n",
       "                var nbb_cell_id = 15;\n",
       "                var nbb_unformatted_code = \"TRAIN_DIR = \\\"dataset\\\\\\\\CMATERdbTrain\\\"\";\n",
       "                var nbb_formatted_code = \"TRAIN_DIR = \\\"dataset\\\\\\\\CMATERdbTrain\\\"\";\n",
       "                var nbb_cells = Jupyter.notebook.get_cells();\n",
       "                for (var i = 0; i < nbb_cells.length; ++i) {\n",
       "                    if (nbb_cells[i].input_prompt_number == nbb_cell_id) {\n",
       "                        if (nbb_cells[i].get_text() == nbb_unformatted_code) {\n",
       "                             nbb_cells[i].set_text(nbb_formatted_code);\n",
       "                        }\n",
       "                        break;\n",
       "                    }\n",
       "                }\n",
       "            }, 500);\n",
       "            "
      ],
      "text/plain": [
       "<IPython.core.display.Javascript object>"
      ]
     },
     "metadata": {},
     "output_type": "display_data"
    }
   ],
   "source": [
    "TRAIN_DIR = \"dataset\\\\CMATERdbTrain\""
   ]
  },
  {
   "cell_type": "code",
   "execution_count": 16,
   "metadata": {},
   "outputs": [
    {
     "data": {
      "application/javascript": [
       "\n",
       "            setTimeout(function() {\n",
       "                var nbb_cell_id = 16;\n",
       "                var nbb_unformatted_code = \"TEST_DIR = \\\"dataset\\\\\\\\CMATERdbTest\\\"\";\n",
       "                var nbb_formatted_code = \"TEST_DIR = \\\"dataset\\\\\\\\CMATERdbTest\\\"\";\n",
       "                var nbb_cells = Jupyter.notebook.get_cells();\n",
       "                for (var i = 0; i < nbb_cells.length; ++i) {\n",
       "                    if (nbb_cells[i].input_prompt_number == nbb_cell_id) {\n",
       "                        if (nbb_cells[i].get_text() == nbb_unformatted_code) {\n",
       "                             nbb_cells[i].set_text(nbb_formatted_code);\n",
       "                        }\n",
       "                        break;\n",
       "                    }\n",
       "                }\n",
       "            }, 500);\n",
       "            "
      ],
      "text/plain": [
       "<IPython.core.display.Javascript object>"
      ]
     },
     "metadata": {},
     "output_type": "display_data"
    }
   ],
   "source": [
    "TEST_DIR = \"dataset\\\\CMATERdbTest\""
   ]
  },
  {
   "cell_type": "code",
   "execution_count": 31,
   "metadata": {},
   "outputs": [
    {
     "data": {
      "text/plain": [
       "(149, 109, 3)"
      ]
     },
     "execution_count": 31,
     "metadata": {},
     "output_type": "execute_result"
    },
    {
     "data": {
      "application/javascript": [
       "\n",
       "            setTimeout(function() {\n",
       "                var nbb_cell_id = 31;\n",
       "                var nbb_unformatted_code = \"sk.imread(\\\"dataset\\\\\\\\CMATERdbTest\\\\\\\\1\\\\\\\\bcc000000.bmp\\\").shape\";\n",
       "                var nbb_formatted_code = \"sk.imread(\\\"dataset\\\\\\\\CMATERdbTest\\\\\\\\1\\\\\\\\bcc000000.bmp\\\").shape\";\n",
       "                var nbb_cells = Jupyter.notebook.get_cells();\n",
       "                for (var i = 0; i < nbb_cells.length; ++i) {\n",
       "                    if (nbb_cells[i].input_prompt_number == nbb_cell_id) {\n",
       "                        if (nbb_cells[i].get_text() == nbb_unformatted_code) {\n",
       "                             nbb_cells[i].set_text(nbb_formatted_code);\n",
       "                        }\n",
       "                        break;\n",
       "                    }\n",
       "                }\n",
       "            }, 500);\n",
       "            "
      ],
      "text/plain": [
       "<IPython.core.display.Javascript object>"
      ]
     },
     "metadata": {},
     "output_type": "display_data"
    }
   ],
   "source": [
    "sk.imread(\"dataset\\\\CMATERdbTest\\\\1\\\\bcc000000.bmp\").shape"
   ]
  },
  {
   "cell_type": "code",
   "execution_count": 17,
   "metadata": {},
   "outputs": [
    {
     "data": {
      "text/plain": [
       "<matplotlib.image.AxesImage at 0x1fda916e490>"
      ]
     },
     "execution_count": 17,
     "metadata": {},
     "output_type": "execute_result"
    },
    {
     "data": {
      "image/png": "[encoded data removed]",
      "text/plain": [
       "<Figure size 432x288 with 1 Axes>"
      ]
     },
     "metadata": {
      "needs_background": "light"
     },
     "output_type": "display_data"
    },
    {
     "data": {
      "application/javascript": [
       "\n",
       "            setTimeout(function() {\n",
       "                var nbb_cell_id = 17;\n",
       "                var nbb_unformatted_code = \"sk.imshow(sk.imread(\\\"dataset\\\\\\\\CMATERdbTest\\\\\\\\1\\\\\\\\bcc000000.bmp\\\"))\";\n",
       "                var nbb_formatted_code = \"sk.imshow(sk.imread(\\\"dataset\\\\\\\\CMATERdbTest\\\\\\\\1\\\\\\\\bcc000000.bmp\\\"))\";\n",
       "                var nbb_cells = Jupyter.notebook.get_cells();\n",
       "                for (var i = 0; i < nbb_cells.length; ++i) {\n",
       "                    if (nbb_cells[i].input_prompt_number == nbb_cell_id) {\n",
       "                        if (nbb_cells[i].get_text() == nbb_unformatted_code) {\n",
       "                             nbb_cells[i].set_text(nbb_formatted_code);\n",
       "                        }\n",
       "                        break;\n",
       "                    }\n",
       "                }\n",
       "            }, 500);\n",
       "            "
      ],
      "text/plain": [
       "<IPython.core.display.Javascript object>"
      ]
     },
     "metadata": {},
     "output_type": "display_data"
    }
   ],
   "source": [
    "sk.imshow(sk.imread(\"dataset\\\\CMATERdbTest\\\\1\\\\bcc000000.bmp\"))"
   ]
  },
  {
   "cell_type": "code",
   "execution_count": 26,
   "metadata": {},
   "outputs": [
    {
     "data": {
      "application/javascript": [
       "\n",
       "            setTimeout(function() {\n",
       "                var nbb_cell_id = 26;\n",
       "                var nbb_unformatted_code = \"train_data_array = []\\n\\nfor root, dirs, files in os.walk(TRAIN_DIR, topdown=False):\\n    for name in files:\\n        folder_name = os.path.join(root, name)\\n        name_folders = folder_name.split(\\\"\\\\\\\\\\\")\\n        if len(name_folders) > 2:\\n            train_data_array.append([int(name_folders[2]), folder_name])\\ntrain_data_pd = pd.DataFrame(train_data_array)\\ntrain_data_pd.columns = [\\\"labels\\\", \\\"directory\\\"]\";\n",
       "                var nbb_formatted_code = \"train_data_array = []\\n\\nfor root, dirs, files in os.walk(TRAIN_DIR, topdown=False):\\n    for name in files:\\n        folder_name = os.path.join(root, name)\\n        name_folders = folder_name.split(\\\"\\\\\\\\\\\")\\n        if len(name_folders) > 2:\\n            train_data_array.append([int(name_folders[2]), folder_name])\\ntrain_data_pd = pd.DataFrame(train_data_array)\\ntrain_data_pd.columns = [\\\"labels\\\", \\\"directory\\\"]\";\n",
       "                var nbb_cells = Jupyter.notebook.get_cells();\n",
       "                for (var i = 0; i < nbb_cells.length; ++i) {\n",
       "                    if (nbb_cells[i].input_prompt_number == nbb_cell_id) {\n",
       "                        if (nbb_cells[i].get_text() == nbb_unformatted_code) {\n",
       "                             nbb_cells[i].set_text(nbb_formatted_code);\n",
       "                        }\n",
       "                        break;\n",
       "                    }\n",
       "                }\n",
       "            }, 500);\n",
       "            "
      ],
      "text/plain": [
       "<IPython.core.display.Javascript object>"
      ]
     },
     "metadata": {},
     "output_type": "display_data"
    }
   ],
   "source": [
    "train_data_array = []\n",
    "\n",
    "for root, dirs, files in os.walk(TRAIN_DIR, topdown=False):\n",
    "    for name in files:\n",
    "        folder_name = os.path.join(root, name)\n",
    "        name_folders = folder_name.split(\"\\\\\")\n",
    "        if len(name_folders) > 2:\n",
    "            train_data_array.append([int(name_folders[2]), folder_name])\n",
    "train_data_pd = pd.DataFrame(train_data_array)\n",
    "train_data_pd.columns = [\"labels\", \"directory\"]"
   ]
  },
  {
   "cell_type": "code",
   "execution_count": 27,
   "metadata": {},
   "outputs": [
    {
     "data": {
      "text/html": [
       "<div>\n",
       "<style scoped>\n",
       "    .dataframe tbody tr th:only-of-type {\n",
       "        vertical-align: middle;\n",
       "    }\n",
       "\n",
       "    .dataframe tbody tr th {\n",
       "        vertical-align: top;\n",
       "    }\n",
       "\n",
       "    .dataframe thead th {\n",
       "        text-align: right;\n",
       "    }\n",
       "</style>\n",
       "<table border=\"1\" class=\"dataframe\">\n",
       "  <thead>\n",
       "    <tr style=\"text-align: right;\">\n",
       "      <th></th>\n",
       "      <th>labels</th>\n",
       "      <th>directory</th>\n",
       "    </tr>\n",
       "  </thead>\n",
       "  <tbody>\n",
       "    <tr>\n",
       "      <th>0</th>\n",
       "      <td>1</td>\n",
       "      <td>dataset\\CMATERdbTrain\\1\\bcc000000.bmp</td>\n",
       "    </tr>\n",
       "    <tr>\n",
       "      <th>32</th>\n",
       "      <td>1</td>\n",
       "      <td>dataset\\CMATERdbTrain\\1\\bcc000032.bmp</td>\n",
       "    </tr>\n",
       "    <tr>\n",
       "      <th>33</th>\n",
       "      <td>1</td>\n",
       "      <td>dataset\\CMATERdbTrain\\1\\bcc000033.bmp</td>\n",
       "    </tr>\n",
       "    <tr>\n",
       "      <th>34</th>\n",
       "      <td>1</td>\n",
       "      <td>dataset\\CMATERdbTrain\\1\\bcc000034.bmp</td>\n",
       "    </tr>\n",
       "    <tr>\n",
       "      <th>35</th>\n",
       "      <td>1</td>\n",
       "      <td>dataset\\CMATERdbTrain\\1\\bcc000035.bmp</td>\n",
       "    </tr>\n",
       "    <tr>\n",
       "      <th>...</th>\n",
       "      <td>...</td>\n",
       "      <td>...</td>\n",
       "    </tr>\n",
       "    <tr>\n",
       "      <th>275</th>\n",
       "      <td>156</td>\n",
       "      <td>dataset\\CMATERdbTrain\\156\\bcc001573.bmp</td>\n",
       "    </tr>\n",
       "    <tr>\n",
       "      <th>276</th>\n",
       "      <td>156</td>\n",
       "      <td>dataset\\CMATERdbTrain\\156\\bcc001574.bmp</td>\n",
       "    </tr>\n",
       "    <tr>\n",
       "      <th>274</th>\n",
       "      <td>156</td>\n",
       "      <td>dataset\\CMATERdbTrain\\156\\bcc001572.bmp</td>\n",
       "    </tr>\n",
       "    <tr>\n",
       "      <th>277</th>\n",
       "      <td>158</td>\n",
       "      <td>dataset\\CMATERdbTrain\\158\\bcc001575.bmp</td>\n",
       "    </tr>\n",
       "    <tr>\n",
       "      <th>278</th>\n",
       "      <td>159</td>\n",
       "      <td>dataset\\CMATERdbTrain\\159\\bcc001576.bmp</td>\n",
       "    </tr>\n",
       "  </tbody>\n",
       "</table>\n",
       "<p>1577 rows × 2 columns</p>\n",
       "</div>"
      ],
      "text/plain": [
       "     labels                                directory\n",
       "0         1    dataset\\CMATERdbTrain\\1\\bcc000000.bmp\n",
       "32        1    dataset\\CMATERdbTrain\\1\\bcc000032.bmp\n",
       "33        1    dataset\\CMATERdbTrain\\1\\bcc000033.bmp\n",
       "34        1    dataset\\CMATERdbTrain\\1\\bcc000034.bmp\n",
       "35        1    dataset\\CMATERdbTrain\\1\\bcc000035.bmp\n",
       "..      ...                                      ...\n",
       "275     156  dataset\\CMATERdbTrain\\156\\bcc001573.bmp\n",
       "276     156  dataset\\CMATERdbTrain\\156\\bcc001574.bmp\n",
       "274     156  dataset\\CMATERdbTrain\\156\\bcc001572.bmp\n",
       "277     158  dataset\\CMATERdbTrain\\158\\bcc001575.bmp\n",
       "278     159  dataset\\CMATERdbTrain\\159\\bcc001576.bmp\n",
       "\n",
       "[1577 rows x 2 columns]"
      ]
     },
     "execution_count": 27,
     "metadata": {},
     "output_type": "execute_result"
    },
    {
     "data": {
      "application/javascript": [
       "\n",
       "            setTimeout(function() {\n",
       "                var nbb_cell_id = 27;\n",
       "                var nbb_unformatted_code = \"train_data_pd = train_data_pd.sort_values(by=\\\"labels\\\")\\ntrain_data_pd\";\n",
       "                var nbb_formatted_code = \"train_data_pd = train_data_pd.sort_values(by=\\\"labels\\\")\\ntrain_data_pd\";\n",
       "                var nbb_cells = Jupyter.notebook.get_cells();\n",
       "                for (var i = 0; i < nbb_cells.length; ++i) {\n",
       "                    if (nbb_cells[i].input_prompt_number == nbb_cell_id) {\n",
       "                        if (nbb_cells[i].get_text() == nbb_unformatted_code) {\n",
       "                             nbb_cells[i].set_text(nbb_formatted_code);\n",
       "                        }\n",
       "                        break;\n",
       "                    }\n",
       "                }\n",
       "            }, 500);\n",
       "            "
      ],
      "text/plain": [
       "<IPython.core.display.Javascript object>"
      ]
     },
     "metadata": {},
     "output_type": "display_data"
    }
   ],
   "source": [
    "train_data_pd = train_data_pd.sort_values(by=\"labels\")\n",
    "train_data_pd"
   ]
  },
  {
   "cell_type": "code",
   "execution_count": 32,
   "metadata": {},
   "outputs": [
    {
     "name": "stdout",
     "output_type": "stream",
     "text": [
      "    index  labels\n",
      "2       1      59\n",
      "5       2      56\n",
      "0       3      60\n",
      "1       4      60\n",
      "16      5      36\n",
      "..    ...     ...\n",
      "89    147       1\n",
      "88    149       1\n",
      "72    156       3\n",
      "96    158       1\n",
      "98    159       1\n",
      "\n",
      "[99 rows x 2 columns]\n"
     ]
    },
    {
     "data": {
      "application/javascript": [
       "\n",
       "            setTimeout(function() {\n",
       "                var nbb_cell_id = 32;\n",
       "                var nbb_unformatted_code = \"occurence_count = pd.DataFrame(train_data_pd[\\\"labels\\\"].value_counts())\\ntype(occurence_count)\\nprint(occurence_count.reset_index().sort_values(by=\\\"index\\\"))\";\n",
       "                var nbb_formatted_code = \"occurence_count = pd.DataFrame(train_data_pd[\\\"labels\\\"].value_counts())\\ntype(occurence_count)\\nprint(occurence_count.reset_index().sort_values(by=\\\"index\\\"))\";\n",
       "                var nbb_cells = Jupyter.notebook.get_cells();\n",
       "                for (var i = 0; i < nbb_cells.length; ++i) {\n",
       "                    if (nbb_cells[i].input_prompt_number == nbb_cell_id) {\n",
       "                        if (nbb_cells[i].get_text() == nbb_unformatted_code) {\n",
       "                             nbb_cells[i].set_text(nbb_formatted_code);\n",
       "                        }\n",
       "                        break;\n",
       "                    }\n",
       "                }\n",
       "            }, 500);\n",
       "            "
      ],
      "text/plain": [
       "<IPython.core.display.Javascript object>"
      ]
     },
     "metadata": {},
     "output_type": "display_data"
    }
   ],
   "source": [
    "occurence_count = pd.DataFrame(train_data_pd[\"labels\"].value_counts())\n",
    "type(occurence_count)\n",
    "print(occurence_count.reset_index().sort_values(by=\"index\"))"
   ]
  },
  {
   "cell_type": "code",
   "execution_count": 29,
   "metadata": {},
   "outputs": [
    {
     "name": "stdout",
     "output_type": "stream",
     "text": [
      "done\n"
     ]
    },
    {
     "data": {
      "application/javascript": [
       "\n",
       "            setTimeout(function() {\n",
       "                var nbb_cell_id = 29;\n",
       "                var nbb_unformatted_code = \"train_data_pd.to_csv(\\\"CMATERdbTrain.csv\\\")\\nprint(\\\"done\\\")\";\n",
       "                var nbb_formatted_code = \"train_data_pd.to_csv(\\\"CMATERdbTrain.csv\\\")\\nprint(\\\"done\\\")\";\n",
       "                var nbb_cells = Jupyter.notebook.get_cells();\n",
       "                for (var i = 0; i < nbb_cells.length; ++i) {\n",
       "                    if (nbb_cells[i].input_prompt_number == nbb_cell_id) {\n",
       "                        if (nbb_cells[i].get_text() == nbb_unformatted_code) {\n",
       "                             nbb_cells[i].set_text(nbb_formatted_code);\n",
       "                        }\n",
       "                        break;\n",
       "                    }\n",
       "                }\n",
       "            }, 500);\n",
       "            "
      ],
      "text/plain": [
       "<IPython.core.display.Javascript object>"
      ]
     },
     "metadata": {},
     "output_type": "display_data"
    }
   ],
   "source": [
    "train_data_pd.to_csv(\"CMATERdbTrain.csv\")\n",
    "print(\"done\")"
   ]
  },
  {
   "cell_type": "code",
   "execution_count": null,
   "metadata": {},
   "outputs": [],
   "source": []
  }
 ],
 "metadata": {
  "kernelspec": {
   "display_name": "Python 3",
   "language": "python",
   "name": "python3"
  },
  "language_info": {
   "codemirror_mode": {
    "name": "ipython",
    "version": 3
   },
   "file_extension": ".py",
   "mimetype": "text/x-python",
   "name": "python",
   "nbconvert_exporter": "python",
   "pygments_lexer": "ipython3",
   "version": "3.8.5"
  }
 },
 "nbformat": 4,
 "nbformat_minor": 4
}
